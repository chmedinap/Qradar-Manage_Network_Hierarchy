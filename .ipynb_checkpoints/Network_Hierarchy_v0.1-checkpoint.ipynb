{
 "cells": [
  {
   "cell_type": "code",
   "execution_count": 1,
   "metadata": {
    "ExecuteTime": {
     "end_time": "2023-06-08T21:36:21.377799Z",
     "start_time": "2023-06-08T21:36:21.373183Z"
    },
    "collapsed": true
   },
   "outputs": [],
   "source": [
    "import json\n",
    "import requests\n",
    "import pandas as pd\n",
    "from pandas.io.json import json_normalize\n",
    "import warnings\n",
    "from requests.packages.urllib3.exceptions import InsecureRequestWarning\n",
    "warnings.filterwarnings(\"ignore\")\n",
    "import logging"
   ]
  },
  {
   "cell_type": "code",
   "execution_count": 7,
   "metadata": {
    "ExecuteTime": {
     "end_time": "2023-06-08T21:36:23.169131Z",
     "start_time": "2023-06-08T21:36:23.156555Z"
    }
   },
   "outputs": [],
   "source": [
    "#create a log\n",
    "logging.basicConfig(filename='Network_Hierarchy.log',\n",
    "                    level=logging.INFO,\n",
    "                    format='%(asctime)s - %(name)s - %(levelname)s - %(message)s')\n",
    "logging.info('The script has started')\n",
    "logging.error('This is an error message')\n",
    "logging.warning('This is a warning message')\n",
    "logging.debug('This is a debug message')\n",
    "logging.critical('This is a critical message')"
   ]
  },
  {
   "cell_type": "code",
   "execution_count": 13,
   "metadata": {
    "ExecuteTime": {
     "end_time": "2023-06-08T21:36:24.847724Z",
     "start_time": "2023-06-08T21:36:24.843510Z"
    }
   },
   "outputs": [],
   "source": [
    "#authentication\n",
    "SEC_TOKEN = '5a9fc116-6ac6-4e93-9c9d-199bb17b3c4b'\n",
    "URL_base = 'https://192.168.230.32/api'"
   ]
  },
  {
   "cell_type": "code",
   "execution_count": 14,
   "metadata": {},
   "outputs": [],
   "source": [
    "header = {\n",
    "    'SEC':SEC_TOKEN,\n",
    "    'Content-Type':'application/json',\n",
    "    'accept':'application/json'\n",
    "}"
   ]
  },
  {
   "cell_type": "markdown",
   "metadata": {},
   "source": [
    "### Step 1: The script will get the current network hierarchy as backup."
   ]
  },
  {
   "cell_type": "code",
   "execution_count": 15,
   "metadata": {
    "ExecuteTime": {
     "end_time": "2023-06-08T21:36:28.132514Z",
     "start_time": "2023-06-08T21:36:28.130277Z"
    }
   },
   "outputs": [],
   "source": [
    "#Save the current configuration of the network hierarchy as a backup\n",
    "URL_suffix='/config/network_hierarchy/staged_networks'\n",
    "URL_Networks = URL_base + URL_suffix\n",
    "def get_networks():\n",
    "    try:\n",
    "        response = requests.get(URL_Networks, verify=False, headers=header)\n",
    "        if response.status_code == 200:\n",
    "            logging.info('The networks were obtained successfully')\n",
    "            networks = response.text\n",
    "            return networks\n",
    "        else:\n",
    "            logging.error('The networks were not obtained')\n",
    "            return None\n",
    "    except Exception as e:\n",
    "        logging.error('The networks were not obtained')\n",
    "        logging.error(e)\n",
    "        return None"
   ]
  },
  {
   "cell_type": "code",
   "execution_count": 16,
   "metadata": {
    "ExecuteTime": {
     "end_time": "2023-06-08T21:36:35.977002Z",
     "start_time": "2023-06-08T21:36:35.927210Z"
    }
   },
   "outputs": [],
   "source": [
    "#save the current configuration of the network hierarchy\n",
    "networks = get_networks()\n",
    "#save the response in text format\n",
    "with open('networks.txt', 'w') as f:\n",
    "    f.write(networks)\n",
    "logging.info('The current configuration of the network hierarchy was saved')"
   ]
  },
  {
   "cell_type": "code",
   "execution_count": 17,
   "metadata": {
    "ExecuteTime": {
     "end_time": "2023-06-08T21:36:56.907011Z",
     "start_time": "2023-06-08T21:36:56.901398Z"
    }
   },
   "outputs": [],
   "source": [
    "#first obtains the domains id created in Qradar\n",
    "URL_suffix='/config/domain_management/domains'\n",
    "URL_Domains = URL_base + URL_suffix\n",
    "def get_domains():\n",
    "    try:\n",
    "        response = requests.get(URL_Domains, verify=False, headers=header)\n",
    "        if response.status_code == 200:\n",
    "            logging.info('The domains were obtained successfully')\n",
    "            #create a DF with the domains\n",
    "            domains = pd.DataFrame(response.json())\n",
    "            #select the columns that we need\n",
    "            domains = domains[['id','name','deleted']]\n",
    "            return domains\n",
    "        else:\n",
    "            logging.error('The domains were not obtained')\n",
    "            return None\n",
    "    except Exception as e:\n",
    "        logging.error('The domains were not obtained')\n",
    "        logging.error(e)\n",
    "        return None"
   ]
  },
  {
   "cell_type": "code",
   "execution_count": 18,
   "metadata": {
    "ExecuteTime": {
     "end_time": "2023-06-08T21:37:01.096108Z",
     "start_time": "2023-06-08T21:37:01.057893Z"
    }
   },
   "outputs": [],
   "source": [
    "#obtain the domains id\n",
    "domains = get_domains()"
   ]
  },
  {
   "cell_type": "code",
   "execution_count": 34,
   "metadata": {
    "ExecuteTime": {
     "end_time": "2023-06-08T21:37:08.107935Z",
     "start_time": "2023-06-08T21:37:08.104026Z"
    }
   },
   "outputs": [],
   "source": [
    "#obtain the networks id in networks\n",
    "df_networks=json.loads(networks)\n",
    "df_networks = pd.DataFrame(df_networks)\n",
    "#obtain the max id in networks\n",
    "max_id = df_networks['id'].max()"
   ]
  },
  {
   "cell_type": "code",
   "execution_count": 35,
   "metadata": {
    "ExecuteTime": {
     "end_time": "2023-06-08T21:37:10.387640Z",
     "start_time": "2023-06-08T21:37:10.382886Z"
    }
   },
   "outputs": [
    {
     "name": "stdout",
     "output_type": "stream",
     "text": [
      "The max id in networks is:  33\n",
      "The domains were obtained successfully, you need to keep this in mind for the next step\n",
      "   id       name  deleted\n",
      "0   0               False\n",
      "1   1  Cliente 1    False\n",
      "2   2  Cliente 2    False\n",
      "3   3  Cliente 3    False\n",
      "4   4  Cliente 4    False\n"
     ]
    }
   ],
   "source": [
    "print('The max id in networks is: ',max_id)\n",
    "logging.info('The max id in networks is: ' + str(max_id))\n",
    "print('The domains were obtained successfully, you need to keep this in mind for the next step')\n",
    "logging.info('The domains were obtained and printed successfully')\n",
    "print(domains)"
   ]
  },
  {
   "cell_type": "code",
   "execution_count": 37,
   "metadata": {
    "ExecuteTime": {
     "end_time": "2023-06-08T21:39:17.364342Z",
     "start_time": "2023-06-08T21:39:17.352103Z"
    }
   },
   "outputs": [
    {
     "data": {
      "text/html": [
       "<div>\n",
       "<style scoped>\n",
       "    .dataframe tbody tr th:only-of-type {\n",
       "        vertical-align: middle;\n",
       "    }\n",
       "\n",
       "    .dataframe tbody tr th {\n",
       "        vertical-align: top;\n",
       "    }\n",
       "\n",
       "    .dataframe thead th {\n",
       "        text-align: right;\n",
       "    }\n",
       "</style>\n",
       "<table border=\"1\" class=\"dataframe\">\n",
       "  <thead>\n",
       "    <tr style=\"text-align: right;\">\n",
       "      <th></th>\n",
       "      <th>id</th>\n",
       "      <th>group</th>\n",
       "      <th>name</th>\n",
       "      <th>description</th>\n",
       "      <th>cidr</th>\n",
       "      <th>domain_id</th>\n",
       "      <th>country_code</th>\n",
       "    </tr>\n",
       "  </thead>\n",
       "  <tbody>\n",
       "    <tr>\n",
       "      <th>0</th>\n",
       "      <td>34</td>\n",
       "      <td>Grupo-Cliente-4</td>\n",
       "      <td>Red_4-Cliente-3</td>\n",
       "      <td>Agregado 9</td>\n",
       "      <td>192.168.8.0/24</td>\n",
       "      <td>4</td>\n",
       "      <td>NaN</td>\n",
       "    </tr>\n",
       "    <tr>\n",
       "      <th>1</th>\n",
       "      <td>35</td>\n",
       "      <td>Grupo-Cliente-4</td>\n",
       "      <td>Red_4-Cliente-3</td>\n",
       "      <td>Agregado 10</td>\n",
       "      <td>192.168.9.0/24</td>\n",
       "      <td>4</td>\n",
       "      <td>NaN</td>\n",
       "    </tr>\n",
       "    <tr>\n",
       "      <th>2</th>\n",
       "      <td>36</td>\n",
       "      <td>Grupo-Cliente-1</td>\n",
       "      <td>Red_4-Cliente-1</td>\n",
       "      <td>Agregado 11</td>\n",
       "      <td>14.14.14.0/24</td>\n",
       "      <td>1</td>\n",
       "      <td>CA</td>\n",
       "    </tr>\n",
       "    <tr>\n",
       "      <th>3</th>\n",
       "      <td>37</td>\n",
       "      <td>Grupo-Cliente-1</td>\n",
       "      <td>Red_5-Cliente-1</td>\n",
       "      <td>Agregado 12</td>\n",
       "      <td>15.15.15.0/24</td>\n",
       "      <td>1</td>\n",
       "      <td>NaN</td>\n",
       "    </tr>\n",
       "    <tr>\n",
       "      <th>4</th>\n",
       "      <td>38</td>\n",
       "      <td>Grupo-Cliente-2</td>\n",
       "      <td>Red_4-Cliente-2</td>\n",
       "      <td>Agregado 13</td>\n",
       "      <td>192.168.10.0/24</td>\n",
       "      <td>2</td>\n",
       "      <td>NaN</td>\n",
       "    </tr>\n",
       "    <tr>\n",
       "      <th>5</th>\n",
       "      <td>39</td>\n",
       "      <td>Grupo-Cliente-2</td>\n",
       "      <td>Red_5-Cliente-2</td>\n",
       "      <td>Agregado 14</td>\n",
       "      <td>192.168.11.0/24</td>\n",
       "      <td>2</td>\n",
       "      <td>NaN</td>\n",
       "    </tr>\n",
       "    <tr>\n",
       "      <th>6</th>\n",
       "      <td>40</td>\n",
       "      <td>Grupo-Cliente-3</td>\n",
       "      <td>Red_4-Cliente-2</td>\n",
       "      <td>Agregado 15</td>\n",
       "      <td>192.168.12.0/24</td>\n",
       "      <td>3</td>\n",
       "      <td>NaN</td>\n",
       "    </tr>\n",
       "    <tr>\n",
       "      <th>7</th>\n",
       "      <td>41</td>\n",
       "      <td>Grupo-Cliente-3</td>\n",
       "      <td>Red_5-Cliente-2</td>\n",
       "      <td>Agregado 16</td>\n",
       "      <td>198.198.198.0/24</td>\n",
       "      <td>3</td>\n",
       "      <td>BR</td>\n",
       "    </tr>\n",
       "  </tbody>\n",
       "</table>\n",
       "</div>"
      ],
      "text/plain": [
       "   id            group             name  description              cidr  \\\n",
       "0  34  Grupo-Cliente-4  Red_4-Cliente-3   Agregado 9    192.168.8.0/24   \n",
       "1  35  Grupo-Cliente-4  Red_4-Cliente-3  Agregado 10    192.168.9.0/24   \n",
       "2  36  Grupo-Cliente-1  Red_4-Cliente-1  Agregado 11     14.14.14.0/24   \n",
       "3  37  Grupo-Cliente-1  Red_5-Cliente-1  Agregado 12     15.15.15.0/24   \n",
       "4  38  Grupo-Cliente-2  Red_4-Cliente-2  Agregado 13   192.168.10.0/24   \n",
       "5  39  Grupo-Cliente-2  Red_5-Cliente-2  Agregado 14   192.168.11.0/24   \n",
       "6  40  Grupo-Cliente-3  Red_4-Cliente-2  Agregado 15   192.168.12.0/24   \n",
       "7  41  Grupo-Cliente-3  Red_5-Cliente-2  Agregado 16  198.198.198.0/24   \n",
       "\n",
       "   domain_id country_code  \n",
       "0          4          NaN  \n",
       "1          4          NaN  \n",
       "2          1           CA  \n",
       "3          1          NaN  \n",
       "4          2          NaN  \n",
       "5          2          NaN  \n",
       "6          3          NaN  \n",
       "7          3           BR  "
      ]
     },
     "execution_count": 37,
     "metadata": {},
     "output_type": "execute_result"
    }
   ],
   "source": [
    "#read the csv file with the new networks to insert\n",
    "df_new_networks = pd.read_csv('New_Networks.csv')\n",
    "logging.info('The new networks were read successfully')\n",
    "df_new_networks"
   ]
  },
  {
   "cell_type": "code",
   "execution_count": 38,
   "metadata": {
    "ExecuteTime": {
     "end_time": "2023-06-08T21:39:26.415038Z",
     "start_time": "2023-06-08T21:39:26.410674Z"
    }
   },
   "outputs": [],
   "source": [
    "#transform the df_new_networks to json centered in the index but without the index in the json\n",
    "new_networks = df_new_networks.to_json(orient='records')"
   ]
  },
  {
   "cell_type": "code",
   "execution_count": 39,
   "metadata": {
    "ExecuteTime": {
     "end_time": "2023-06-08T21:39:29.286727Z",
     "start_time": "2023-06-08T21:39:29.283916Z"
    }
   },
   "outputs": [],
   "source": [
    "#concatenate the new networks with the current networks\n",
    "networks = networks[:-1] + ',' + new_networks[1:]\n",
    "logging.info('The new networks were concatenated successfully')"
   ]
  },
  {
   "cell_type": "code",
   "execution_count": 40,
   "metadata": {
    "ExecuteTime": {
     "end_time": "2023-06-08T21:39:35.353694Z",
     "start_time": "2023-06-08T21:39:35.350049Z"
    }
   },
   "outputs": [],
   "source": [
    "#put the new networks in the network hierarchy in Qradar\n",
    "URL_suffix='/config/network_hierarchy/staged_networks'\n",
    "URL_Domains = URL_base + URL_suffix\n",
    "def put_networks(networks):\n",
    "    try:\n",
    "        response = requests.put(URL_Domains, verify=False, headers={'SEC':SEC_TOKEN}, data=networks)\n",
    "        if response.status_code == 200:\n",
    "            logging.info('The networks were inserted successfully')\n",
    "            return True\n",
    "        else:\n",
    "            logging.error('The networks were not inserted')\n",
    "            return False\n",
    "    except Exception as e:\n",
    "        logging.error('The networks were not inserted')\n",
    "        logging.error(e)\n",
    "        return False"
   ]
  },
  {
   "cell_type": "code",
   "execution_count": 41,
   "metadata": {
    "ExecuteTime": {
     "end_time": "2023-06-08T21:39:38.128708Z",
     "start_time": "2023-06-08T21:39:38.013304Z"
    }
   },
   "outputs": [],
   "source": [
    "#insert the new networks\n",
    "put_networks(networks)\n",
    "logging.info('end of the script')"
   ]
  }
 ],
 "metadata": {
  "kernelspec": {
   "display_name": "Python 3 (ipykernel)",
   "language": "python",
   "name": "python3"
  },
  "language_info": {
   "codemirror_mode": {
    "name": "ipython",
    "version": 3
   },
   "file_extension": ".py",
   "mimetype": "text/x-python",
   "name": "python",
   "nbconvert_exporter": "python",
   "pygments_lexer": "ipython3",
   "version": "3.9.16"
  }
 },
 "nbformat": 4,
 "nbformat_minor": 1
}
